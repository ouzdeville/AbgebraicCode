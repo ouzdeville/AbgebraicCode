{
 "cells": [
  {
   "cell_type": "code",
   "execution_count": 2,
   "id": "06ce889e",
   "metadata": {},
   "outputs": [],
   "source": [
    "def poly_deg(p):\n",
    "    n = len(p)\n",
    "    return n-1"
   ]
  },
  {
   "cell_type": "code",
   "execution_count": null,
   "id": "16d9a871",
   "metadata": {},
   "outputs": [],
   "source": [
    "def poly_coeff(p, i):\n",
    "    return p[i]\n"
   ]
  },
  {
   "cell_type": "code",
   "execution_count": null,
   "id": "8a228a68",
   "metadata": {},
   "outputs": [],
   "source": [
    "\n",
    "def poly_tete(p):\n",
    "    \"\"\"Return the leading terme of the polynomial.\"\"\"\n",
    "    return p[len(p)-1]\n"
   ]
  },
  {
   "cell_type": "code",
   "execution_count": null,
   "id": "feebd411",
   "metadata": {},
   "outputs": [],
   "source": [
    "\n",
    "#Retourner un polynome avec son degré en supprimant les 0\n",
    "\n",
    "def polynome(p):\n",
    "    n=len(p)\n",
    "    while p[n-1]==0 and n>1:\n",
    "        del(p[n-1])\n",
    "        n=len(p)\n",
    "    return p"
   ]
  },
  {
   "cell_type": "code",
   "execution_count": null,
   "id": "f2fab2be",
   "metadata": {},
   "outputs": [],
   "source": [
    "def poly_copy(p):\n",
    "    q=p\n",
    "    return q\n",
    "\n"
   ]
  },
  {
   "cell_type": "code",
   "execution_count": null,
   "id": "bf3b2f54",
   "metadata": {},
   "outputs": [],
   "source": [
    "#Multiplier un coefficient par un polynome\n",
    "\n",
    "def mcp(a,p):\n",
    "    q=[]\n",
    "    n=len(p)\n",
    "    for i in range(n):\n",
    "        q.append(a*p[i])\n",
    "    return polynome(q)"
   ]
  },
  {
   "cell_type": "code",
   "execution_count": null,
   "id": "c1233ed0",
   "metadata": {},
   "outputs": [],
   "source": [
    "#Multiplier par l'inverve du coefficient dominant\n",
    "\n",
    "def mip(p):\n",
    "    polynome(p)\n",
    "    n=poly_deg(p)\n",
    "    s=1/p[n]\n",
    "    q = mcp(s,p)\n",
    "    return q"
   ]
  },
  {
   "cell_type": "code",
   "execution_count": null,
   "metadata": {},
   "outputs": [],
   "source": [
    "#Somme de deux polynomes\n",
    "\n",
    "def poly_somme(p,q):\n",
    "    n=len(p)\n",
    "    m=len(q)\n",
    "    s=[]\n",
    "    if n==m:\n",
    "        for i in range(m):\n",
    "            s.append(p[i] + q[i])\n",
    "        return polynome(s)\n",
    "    elif n>m:\n",
    "        for i in range(m):\n",
    "            s.append(p[i] + q[i])\n",
    "        for i in range(n-m):\n",
    "            s.append(p[m+i])\n",
    "        return polynome(s)\n",
    "    else:\n",
    "        for i in range(n):\n",
    "            s.append(p[i] + q[i])\n",
    "        for i in range(m-n):\n",
    "            s.append(q[n+i])\n",
    "        return polynome(s)"
   ]
  },
  {
   "cell_type": "code",
   "execution_count": null,
   "id": "18343326",
   "metadata": {},
   "outputs": [],
   "source": [
    "# Différence de deux polynomes\n",
    "\n",
    "def poly_diff(p,q):\n",
    "    return poly_somme(p,mcp(-1,q))"
   ]
  },
  {
   "cell_type": "code",
   "execution_count": null,
   "id": "6fc9cb44",
   "metadata": {},
   "outputs": [],
   "source": [
    "#Le polynome X^n \n",
    "\n",
    "def x(n):\n",
    "    p=[]\n",
    "    for i in range(n):\n",
    "        p.append(0)\n",
    "    p.append(1)\n",
    "    return p"
   ]
  },
  {
   "cell_type": "code",
   "execution_count": null,
   "id": "d99751f6",
   "metadata": {},
   "outputs": [],
   "source": [
    "def poly_mul(p,  q):\n",
    "    n = len(p)\n",
    "    m = len(q)\n",
    "    s=0\n",
    "    r=[]\n",
    "    for i in range(n+m-1):\n",
    "        for j in range(n):\n",
    "            for k in range(m):\n",
    "                if j+k == i:\n",
    "                    s = s + p[j]*q[k]\n",
    "        r.append(s)\n",
    "        s=0\n",
    "    return r"
   ]
  },
  {
   "cell_type": "code",
   "execution_count": null,
   "id": "b15d7ffd",
   "metadata": {},
   "outputs": [],
   "source": [
    "# Quotient d'une division euclidienne\n",
    "\n",
    "def poly_quot(a,b):\n",
    "    polynome(a)\n",
    "    polynome(b)\n",
    "    y=0\n",
    "    n=poly_deg(a)\n",
    "    m=poly_deg(b)\n",
    "    p=[]\n",
    "    if m==0:\n",
    "        return mcp(1/b[0],a)\n",
    "    else :\n",
    "        while m<=n:\n",
    "            q=poly_mul(x(n-m),mcp(a[n],mip(b)))\n",
    "            o=mcp(a[n],x(n-m))\n",
    "            z=mcp(1/b[m],o)\n",
    "            p=poly_somme(p,z)\n",
    "            a = poly_diff(a,q)\n",
    "            polynome(a)\n",
    "            n=poly_deg(a)\n",
    "        return p"
   ]
  },
  {
   "cell_type": "code",
   "execution_count": null,
   "id": "64dba7fe",
   "metadata": {},
   "outputs": [],
   "source": [
    "# Reste d'une division euclidienne\n",
    "\n",
    "def poly_reste(a,b):\n",
    "    polynome(a)\n",
    "    polynome(b)\n",
    "    y=0\n",
    "    n=poly_deg(a)\n",
    "    m=poly_deg(b)\n",
    "    p=[]\n",
    "    if m==0:\n",
    "        return [0]\n",
    "    else:\n",
    "        while m<=n:\n",
    "            q=poly_mul(x(n-m),mcp(a[n],mip(b)))\n",
    "            a = poly_diff(a,q)\n",
    "            polynome(a)\n",
    "            n=poly_deg(a)\n",
    "        return a"
   ]
  },
  {
   "cell_type": "code",
   "execution_count": 3,
   "id": "3795a974",
   "metadata": {},
   "outputs": [],
   "source": [
    "# Quotient et reste d'une division euclidienne\n",
    "\n",
    "def qre(a,b):\n",
    "    polynome(a)\n",
    "    polynome(b)\n",
    "    y=0\n",
    "    n=poly_deg(a)\n",
    "    m=poly_deg(b)\n",
    "    p=[]\n",
    "    if m==0:\n",
    "        return mcp(1/b[0],a), [0]\n",
    "    else :\n",
    "        while m<=n:\n",
    "            q=poly_mul(x(n-m),mcp(a[n],mip(b)))\n",
    "            o=mcp(a[n],x(n-m))\n",
    "            z=mcp(1/b[m],o)\n",
    "            p=poly_somme(p,z)\n",
    "            a = poly_diff(a,q)\n",
    "            polynome(a)\n",
    "            n=poly_deg(a)\n",
    "        return p,a\n"
   ]
  },
  {
   "cell_type": "code",
   "execution_count": null,
   "metadata": {},
   "outputs": [],
   "source": [
    "def poly_mul_mod(p,  q, mod):\n",
    "    print('implementation ici')"
   ]
  },
  {
   "cell_type": "code",
   "execution_count": 4,
   "id": "540383f6",
   "metadata": {},
   "outputs": [],
   "source": [
    "def poly_sqmod_init( g,sq):\n",
    "    print('implementation ici')\n",
    "\n"
   ]
  },
  {
   "cell_type": "code",
   "execution_count": 5,
   "id": "d4a39079",
   "metadata": {},
   "outputs": [],
   "source": [
    "#pgcd de deux polynomes\n",
    "\n",
    "def poly_gcd( p1,  p2):\n",
    "    if len(p1) >= len(p2):\n",
    "        v=[[1],[0]]\n",
    "        u=[[0],[1]]\n",
    "        r=[p1,p2]\n",
    "        q=[0]\n",
    "        i=1\n",
    "        while r[i]!=[0]:\n",
    "            q1,r2=qre(r[i-1],r[i])\n",
    "            r.append(polynome(r2))\n",
    "            q.append(polynome(q1))\n",
    "        \n",
    "            u.append(polynome(poly_diff(u[i-1],poly_mul(q[i],u[i]))))\n",
    "            v.append(polynome(poly_diff(v[i-1],poly_mul(q[i],v[i]))))\n",
    "            i=i+1\n",
    "        \n",
    "            n=len(r)\n",
    "            x=mip(r[n-2])\n",
    "        return x\n",
    "\n",
    "    else:\n",
    "        v=[[1],[0]]\n",
    "        u=[[0],[1]]\n",
    "        r=[b,a]\n",
    "        q=[0]\n",
    "        i=1\n",
    "        while r[i]!=[0]:\n",
    "            q1,r2=qre(r[i-1],r[i])\n",
    "            r.append(polynome(r2))\n",
    "            q.append(polynome(q1))\n",
    "        \n",
    "            u.append(polynome(poly_diff(u[i-1],poly_mul(q[i],u[i]))))\n",
    "            v.append(polynome(poly_diff(v[i-1],poly_mul(q[i],v[i]))))\n",
    "            i=i+1\n",
    "        \n",
    "            n=len(r)\n",
    "            x=mip(r[n-2])\n",
    "        return x"
   ]
  },
  {
   "cell_type": "code",
   "execution_count": 6,
   "id": "1f8f03a7",
   "metadata": {},
   "outputs": [],
   "source": [
    "def poly_quotient( p,  d):\n",
    "    print('implementation ici')\n"
   ]
  },
  {
   "cell_type": "code",
   "execution_count": 7,
   "id": "270513d3",
   "metadata": {},
   "outputs": [],
   "source": [
    "def poly_eval( p,  a):\n",
    "    print('implementation ici')\n",
    "\n"
   ]
  },
  {
   "cell_type": "code",
   "execution_count": null,
   "id": "81a944da",
   "metadata": {},
   "outputs": [],
   "source": [
    "def poly_display(p):\n",
    "    print('implementation ici')"
   ]
  }
 ],
 "metadata": {
  "kernelspec": {
   "display_name": "Python 3 (ipykernel)",
   "language": "python",
   "name": "python3"
  },
  "language_info": {
   "codemirror_mode": {
    "name": "ipython",
    "version": 3
   },
   "file_extension": ".py",
   "mimetype": "text/x-python",
   "name": "python",
   "nbconvert_exporter": "python",
   "pygments_lexer": "ipython3",
   "version": "3.10.8"
  }
 },
 "nbformat": 4,
 "nbformat_minor": 5
}
