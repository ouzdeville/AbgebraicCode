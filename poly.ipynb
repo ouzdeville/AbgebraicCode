{
 "cells": [
  {
   "cell_type": "code",
   "execution_count": 2,
   "id": "06ce889e",
   "metadata": {},
   "outputs": [],
   "source": [
    "def poly_deg(p):\n",
    "    print('implementation ici')\n"
   ]
  },
  {
   "cell_type": "code",
   "execution_count": null,
   "id": "16d9a871",
   "metadata": {},
   "outputs": [],
   "source": [
    "def poly_coeff(p, i):\n",
    "    print('implementation ici')\n"
   ]
  },
  {
   "cell_type": "code",
   "execution_count": null,
   "id": "8a228a68",
   "metadata": {},
   "outputs": [],
   "source": [
    "def poly_tete(p):\n",
    "    print('implementation ici')\n"
   ]
  },
  {
   "cell_type": "code",
   "execution_count": null,
   "id": "feebd411",
   "metadata": {},
   "outputs": [],
   "source": [
    "def poly_calcule_deg(p):\n",
    "    print('implementation ici')\n"
   ]
  },
  {
   "cell_type": "code",
   "execution_count": null,
   "id": "f2fab2be",
   "metadata": {},
   "outputs": [],
   "source": [
    "def poly_copy( p):\n",
    "    print('implementation ici')\n",
    "\n"
   ]
  },
  {
   "cell_type": "code",
   "execution_count": null,
   "id": "bf3b2f54",
   "metadata": {},
   "outputs": [],
   "source": [
    "def poly_mul(p,  q):\n",
    "    print('implementation ici')\n"
   ]
  },
  {
   "cell_type": "code",
   "execution_count": 3,
   "id": "3795a974",
   "metadata": {},
   "outputs": [],
   "source": [
    "def poly_rem( p,  g):\n",
    "    print('implementation ici')\n"
   ]
  },
  {
   "cell_type": "code",
   "execution_count": 4,
   "id": "540383f6",
   "metadata": {},
   "outputs": [],
   "source": [
    "def poly_sqmod_init( g,sq):\n",
    "    print('implementation ici')\n",
    "\n"
   ]
  },
  {
   "cell_type": "code",
   "execution_count": 5,
   "id": "d4a39079",
   "metadata": {},
   "outputs": [],
   "source": [
    "def poly_gcd( p1,  p2):\n",
    "    print('implementation ici')\n"
   ]
  },
  {
   "cell_type": "code",
   "execution_count": 6,
   "id": "1f8f03a7",
   "metadata": {},
   "outputs": [],
   "source": [
    "def poly_quotient( p,  d):\n",
    "    print('implementation ici')\n"
   ]
  },
  {
   "cell_type": "code",
   "execution_count": 7,
   "id": "270513d3",
   "metadata": {},
   "outputs": [],
   "source": [
    "def poly_eval( p,  a):\n",
    "    print('implementation ici')\n",
    "\n"
   ]
  },
  {
   "cell_type": "code",
   "execution_count": null,
   "id": "81a944da",
   "metadata": {},
   "outputs": [],
   "source": [
    "def poly_display(p):\n",
    "    print('implementation ici')"
   ]
  }
 ],
 "metadata": {
  "kernelspec": {
   "display_name": "Python 3 (ipykernel)",
   "language": "python",
   "name": "python3"
  },
  "language_info": {
   "codemirror_mode": {
    "name": "ipython",
    "version": 3
   },
   "file_extension": ".py",
   "mimetype": "text/x-python",
   "name": "python",
   "nbconvert_exporter": "python",
   "pygments_lexer": "ipython3",
   "version": "3.10.8"
  }
 },
 "nbformat": 4,
 "nbformat_minor": 5
}
