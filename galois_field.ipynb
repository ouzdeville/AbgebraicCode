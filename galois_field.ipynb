{
 "cells": [
  {
   "cell_type": "code",
   "execution_count": 93,
   "id": "08257fe0",
   "metadata": {},
   "outputs": [],
   "source": [
    "primes=[\n",
    "    1,\t\t#/* extension degree 0 (!) never used */\n",
    "    3,\t\t#/* extension degree 1 (!) never used */\n",
    "    7, \t\t#/* extension degree 2 */\n",
    "    13, \t#\t/* extension degree 3 */\n",
    "    23, \t#\t/* extension degree 4 */\n",
    "    45, \t#\t/* extension degree 5 */\n",
    "    103, \t#\t/* extension degree 6 */\n",
    "    203, \t#\t/* extension degree 7 */\n",
    "    435, \t#\t/* extension degree 8 */\n",
    "    1041, \t#\t/* extension degree 9 */\n",
    "    2011,\t#\t/* extension degree 10 */\n",
    "    4005,\t#\t/* extension degree 11 */\n",
    "    10123,\t#\t/* extension degree 12 */\n",
    "    20033,\t#\t/* extension degree 13 */\n",
    "    42103,\t#\t/* extension degree 14   */\n",
    "    100003,\t#\t/* extension degree 15 */\n",
    "    210013\t#\t/* extension degree 16 */\n",
    "]"
   ]
  },
  {
   "cell_type": "code",
   "execution_count": 95,
   "id": "6cb3678a",
   "metadata": {},
   "outputs": [],
   "source": [
    "m=3\n",
    "prime=primes[m];"
   ]
  },
  {
   "cell_type": "code",
   "execution_count": 96,
   "id": "10d8f903",
   "metadata": {},
   "outputs": [],
   "source": [
    "\n",
    "def gf_prod(a,b):\n",
    "    c=a;\n",
    "    s=0\n",
    "    if b==0 or a==0:\n",
    "        return 0\n",
    "    s=a if (b&(1)) else 0\n",
    "    for i in range(1,m):\n",
    "        bit_i=b&(1<<i)\n",
    "        c=c<<1\n",
    "        c=c^prime if c&(1<<m) else c\n",
    "        if(bit_i):\n",
    "            # s+(a<<i)\n",
    "            s=s^c\n",
    "    return s"
   ]
  },
  {
   "cell_type": "code",
   "execution_count": 97,
   "id": "6e07a8e8",
   "metadata": {},
   "outputs": [],
   "source": [
    "def gf_square(x):\n",
    "    print('gf_square')"
   ]
  },
  {
   "cell_type": "code",
   "execution_count": 98,
   "id": "8e89d89d",
   "metadata": {},
   "outputs": [],
   "source": [
    "def gf_sqrt(x):\n",
    "    print('gf_sqrt')"
   ]
  },
  {
   "cell_type": "code",
   "execution_count": 101,
   "id": "bedbdb4a",
   "metadata": {},
   "outputs": [],
   "source": [
    "def gf_div(x, y):\n",
    "    print('gf_div')\n",
    "    "
   ]
  },
  {
   "cell_type": "code",
   "execution_count": 102,
   "id": "63ef1afe",
   "metadata": {},
   "outputs": [],
   "source": [
    "def gf_inv(x):\n",
    "    print('gf_inv')"
   ]
  },
  {
   "cell_type": "code",
   "execution_count": 105,
   "id": "f1e8f411",
   "metadata": {},
   "outputs": [],
   "source": [
    "def gf_pow( x, i):\n",
    "        print('gf_pow')"
   ]
  },
  {
   "cell_type": "code",
   "execution_count": null,
   "id": "ca52e6d9",
   "metadata": {},
   "outputs": [],
   "source": []
  },
  {
   "cell_type": "code",
   "execution_count": null,
   "id": "0d801c2c",
   "metadata": {},
   "outputs": [],
   "source": []
  }
 ],
 "metadata": {
  "kernelspec": {
   "display_name": "Python 3 (ipykernel)",
   "language": "python",
   "name": "python3"
  },
  "language_info": {
   "codemirror_mode": {
    "name": "ipython",
    "version": 3
   },
   "file_extension": ".py",
   "mimetype": "text/x-python",
   "name": "python",
   "nbconvert_exporter": "python",
   "pygments_lexer": "ipython3",
   "version": "3.10.8"
  }
 },
 "nbformat": 4,
 "nbformat_minor": 5
}
