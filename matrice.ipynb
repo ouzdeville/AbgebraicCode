{
 "cells": [
  {
   "cell_type": "code",
   "execution_count": 1,
   "id": "4b1f421f",
   "metadata": {},
   "outputs": [],
   "source": [
    "def mat_coeff(A, i, j):\n",
    "    print('implementation')\n"
   ]
  },
  {
   "cell_type": "code",
   "execution_count": null,
   "id": "12c4d958",
   "metadata": {},
   "outputs": [],
   "source": [
    "def mat_set_coeff_to_one(A, i, j):\n",
    "    print('mat_set_coeff_to_one')\n",
    "def mat_change_coeff(A, i, j):\n",
    "    print('mat_change_coeff')\n",
    "def swaprows(A, i, k):\n",
    "    print('swaprows')\n",
    "def mat_ini(int rown, int coln):\n",
    "    print('mat_ini')\n",
    "def mat_aff(D_mat A, int ordre):\n",
    "    print('mat_aff')\n",
    "def multiplication(int ordre, D_mat a, D_mat b):\n",
    "    print('multiplication')\n",
    "def somme(int ordre, D_mat a, D_mat b):\n",
    "    print('somme')\n",
    "def GaussElim(QD_mat H):\n",
    "    print('GaussElim')"
   ]
  }
 ],
 "metadata": {
  "kernelspec": {
   "display_name": "Python 3 (ipykernel)",
   "language": "python",
   "name": "python3"
  },
  "language_info": {
   "codemirror_mode": {
    "name": "ipython",
    "version": 3
   },
   "file_extension": ".py",
   "mimetype": "text/x-python",
   "name": "python",
   "nbconvert_exporter": "python",
   "pygments_lexer": "ipython3",
   "version": "3.10.8"
  }
 },
 "nbformat": 4,
 "nbformat_minor": 5
}
